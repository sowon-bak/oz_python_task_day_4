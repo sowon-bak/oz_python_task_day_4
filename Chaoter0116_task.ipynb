{
 "cells": [
  {
   "cell_type": "markdown",
   "metadata": {
    "id": "BX7SgOeWu86I"
   },
   "source": [
    "안녕하세요. 수강생 여러분~! \n",
    "\n",
    "다시 돌아온 조금 더 성장할 기 ! 회 ! \n",
    "\n",
    "Chapter01 ~ 16의 수업 내용을 바탕으로 아래 문제를 풀어주시면 됩니다 !\n",
    "\n",
    "지금까지 잘 해오셨으니까, 총 복습한다고 생각하시고 한번 도전해보세요 !!!\n",
    "\n",
    "차근 차근 문제와 요구사항을 읽고 작성해보세요.\n",
    "\n",
    "<br>\n",
    "\n",
    "\n",
    "[**답변 입력 방법**]\n",
    "\n",
    "문제 아래에 있는 코드 입력창에 정답코드를 작성하신 후  __▷ 버튼을 클릭해 코드를 실행__ 해보세요<br>"
   ]
  },
  {
   "cell_type": "markdown",
   "metadata": {},
   "source": [
    "---"
   ]
  },
  {
   "cell_type": "markdown",
   "metadata": {},
   "source": [
    "#### 프로젝트: 붕어빵 자동 판매 시스템\n",
    "\n",
    "\n",
    "당신은 붕어빵 가게의 주인입니다. \n",
    "\n",
    "손님들이 붕어빵을 주문하면 이를 자동으로 처리하고, 재고를 관리하는 시스템을 만들고자 합니다. \n",
    "\n",
    "또한, 관리자 모드를 통해 재고를 추가할 수 있는 기능을 구현해야 합니다.\n"
   ]
  },
  {
   "cell_type": "markdown",
   "metadata": {},
   "source": [
    "__[문제 1: 붕어빵 재고 확인]__\n",
    "\n",
    "붕어빵 가게의 현재 재고를 확인하는 기능을 구현하세요.\n",
    "\n",
    "요구사항:\n",
    "- 현재 붕어빵의 재고를 딕셔너리로 관리합니다.\n",
    "- 딕셔너리에는 붕어빵의 종류와 각각의 재고 개수가 저장됩니다.\n",
    "- 현재 재고를 화면에 출력하세요.\n",
    "\n",
    "붕어빵 재고\n",
    "- 팥붕어빵 : 10개\n",
    "- 슈크림붕어빵 : 8개\n",
    "- 초코붕어빵 : 5개"
   ]
  },
  {
   "cell_type": "code",
   "execution_count": 25,
   "metadata": {},
   "outputs": [
    {
     "name": "stdout",
     "output_type": "stream",
     "text": [
      "팥붕어빵 : 10개\n",
      "슈크림붕어빵 : 8개\n",
      "초코붕어빵 : 5개\n"
     ]
    }
   ],
   "source": [
    "stock = {\"팥붕어빵\" : 10 , \"슈크림붕어빵\" : 8 , \"초코붕어빵\" : 5}\n",
    "\n",
    "for name, num in stock.items() :\n",
    "    print(f'{name} : {num}개')\n"
   ]
  },
  {
   "cell_type": "markdown",
   "metadata": {},
   "source": [
    "__[문제 2: 붕어빵 주문 받기]__\n",
    "\n",
    "손님이 주문한 붕어빵의 종류와 개수를 입력받는 기능을 구현하세요.\n",
    "\n",
    "요구사항:\n",
    "- 손님이 주문할 붕어빵의 종류와 개수를 입력받습니다.\n",
    "- 주문 내용을 딕셔너리에 저장하세요.\n",
    "- 주문 내역을 출력해주세요."
   ]
  },
  {
   "cell_type": "code",
   "execution_count": 16,
   "metadata": {},
   "outputs": [
    {
     "name": "stdout",
     "output_type": "stream",
     "text": [
      "주문하실 팥붕어빵의 갯수를 입력해주세요.\n",
      "주문하실 슈크림붕어빵의 갯수를 입력해주세요.\n",
      "주문하실 초코붕어빵의 갯수를 입력해주세요.\n",
      "주문 내역은 다음과 같습니다.\n",
      "팥붕어빵 2개\n",
      "초코붕어빵 5개\n"
     ]
    }
   ],
   "source": [
    "order = {\"팥붕어빵\" : 0 , \"슈크림붕어빵\" : 0 , \"초코붕어빵\" : 0}\n",
    "\n",
    "for name in order.keys() :\n",
    "    print(f'주문하실 {name}의 갯수를 입력해주세요.')\n",
    "    order[name] = int(input())\n",
    "\n",
    "print('주문 내역은 다음과 같습니다.')\n",
    "for name, num in order.items() :\n",
    "    if num == 0 :\n",
    "        pass\n",
    "    else :\n",
    "        print(f'{name} {num}개')\n"
   ]
  },
  {
   "cell_type": "markdown",
   "metadata": {},
   "source": [
    "__[문제 3: 붕어빵 주문 처리]__\n",
    "\n",
    "손님의 주문을 처리하여 붕어빵 재고를 업데이트하는 기능을 구현하세요.\n",
    "\n",
    "요구사항:\n",
    "- 손님의 주문 내용을 기반으로 재고를 업데이트합니다.\n",
    "- 재고가 부족할 경우, 손님에게 재고 부족을 알리고 재고를 감소시키지 않습니다.\n",
    "- 재고가 충분할 경우, 주문한 만큼 재고를 감소시키고 판매를 완료합니다.\n",
    "- 판매가 완료된 경우 판매된 붕어빵 맛과 개수를 출력하세요."
   ]
  },
  {
   "cell_type": "code",
   "execution_count": 27,
   "metadata": {},
   "outputs": [
    {
     "name": "stdout",
     "output_type": "stream",
     "text": [
      "주문하실 팥붕어빵의 갯수를 입력해주세요.\n",
      "4\n",
      "주문하실 슈크림붕어빵의 갯수를 입력해주세요.\n",
      "5\n",
      "주문하실 초코붕어빵의 갯수를 입력해주세요.\n",
      "6\n",
      "재고가 부족하여 초코붕어빵을 구매하실 수 없습니다.\n",
      "주문 내역은 다음과 같습니다.\n",
      "팥붕어빵 4개\n",
      "슈크림붕어빵 5개\n",
      "남아있는 팥붕어빵은 6개 입니다.\n",
      "남아있는 슈크림붕어빵은 3개 입니다.\n",
      "남아있는 초코붕어빵은 5개 입니다.\n"
     ]
    }
   ],
   "source": [
    "stock = {\"팥붕어빵\" : 10 , \"슈크림붕어빵\" : 8 , \"초코붕어빵\" : 5}\n",
    "order = {\"팥붕어빵\" : 0 , \"슈크림붕어빵\" : 0 , \"초코붕어빵\" : 0}\n",
    "\n",
    "for name in order.keys() :\n",
    "    print(f'주문하실 {name}의 갯수를 입력해주세요.')\n",
    "    order[name] = int(input())\n",
    "    print(order[name])\n",
    "    if stock[name] >= order[name] :\n",
    "        stock[name] = stock[name] - order[name]\n",
    "    else :\n",
    "        print(f'재고가 부족하여 {name}을 구매하실 수 없습니다.')\n",
    "        order[name] = 0\n",
    "\n",
    "print('주문 내역은 다음과 같습니다.')\n",
    "for name, num in order.items() :\n",
    "    if num == 0 :\n",
    "        pass\n",
    "    else :\n",
    "        print(f'{name} {num}개')\n",
    "\n",
    "for name, num in stock.items() :\n",
    "    print(f'남아있는 {name}은 {num}개 입니다.')\n"
   ]
  },
  {
   "cell_type": "markdown",
   "metadata": {},
   "source": [
    "__[문제 4: 여러 손님 주문 처리]__\n",
    "\n",
    "여러 손님들의 주문을 처리할 수 있도록 시스템을 확장하세요.\n",
    "\n",
    "요구사항:\n",
    "- 손님이 \"종료\"를 입력할 때까지 주문을 계속 받습니다.\n",
    "- 각 주문마다 재고를 업데이트합니다.\n",
    "- 현재 재고를 화면에 출력합니다."
   ]
  },
  {
   "cell_type": "code",
   "execution_count": 28,
   "metadata": {},
   "outputs": [
    {
     "name": "stdout",
     "output_type": "stream",
     "text": [
      "남아있는 팥붕어빵은 10개 입니다.\n",
      "남아있는 슈크림붕어빵은 8개 입니다.\n",
      "남아있는 초코붕어빵은 5개 입니다.\n",
      "주문하실 팥붕어빵의 갯수를 입력해주세요.\n",
      "4\n",
      "주문하실 슈크림붕어빵의 갯수를 입력해주세요.\n",
      "5\n",
      "주문하실 초코붕어빵의 갯수를 입력해주세요.\n",
      "6\n",
      "재고가 부족하여 초코붕어빵을 구매하실 수 없습니다.\n",
      "주문 내역은 다음과 같습니다.\n",
      "팥붕어빵 4개\n",
      "슈크림붕어빵 5개\n",
      "남아있는 팥붕어빵은 6개 입니다.\n",
      "남아있는 슈크림붕어빵은 3개 입니다.\n",
      "남아있는 초코붕어빵은 5개 입니다.\n",
      "주문을 그만 하시려면 '종료'를 입력해주세요.\n",
      "주문을 계속합니다.\n",
      "주문하실 팥붕어빵의 갯수를 입력해주세요.\n",
      "6\n",
      "주문하실 슈크림붕어빵의 갯수를 입력해주세요.\n",
      "5\n",
      "재고가 부족하여 슈크림붕어빵을 구매하실 수 없습니다.\n",
      "주문하실 초코붕어빵의 갯수를 입력해주세요.\n",
      "4\n",
      "주문 내역은 다음과 같습니다.\n",
      "팥붕어빵 6개\n",
      "초코붕어빵 4개\n",
      "남아있는 팥붕어빵은 0개 입니다.\n",
      "남아있는 슈크림붕어빵은 3개 입니다.\n",
      "남아있는 초코붕어빵은 1개 입니다.\n",
      "주문을 그만 하시려면 '종료'를 입력해주세요.\n",
      "주문을 종료합니다.\n"
     ]
    }
   ],
   "source": [
    "stock = {\"팥붕어빵\" : 10 , \"슈크림붕어빵\" : 8 , \"초코붕어빵\" : 5}\n",
    "order = {\"팥붕어빵\" : 0 , \"슈크림붕어빵\" : 0 , \"초코붕어빵\" : 0}\n",
    "\n",
    "for name, num in stock.items() :\n",
    "    print(f'남아있는 {name}은 {num}개 입니다.')\n",
    "\n",
    "while True :\n",
    "\n",
    "    for name in order.keys() :\n",
    "        print(f'주문하실 {name}의 갯수를 입력해주세요.')\n",
    "        order[name] = int(input())\n",
    "        print(order[name])\n",
    "        if stock[name] >= order[name] :\n",
    "            stock[name] = stock[name] - order[name]\n",
    "        else :\n",
    "            print(f'재고가 부족하여 {name}을 구매하실 수 없습니다.')\n",
    "            order[name] = 0\n",
    "\n",
    "    print('주문 내역은 다음과 같습니다.')\n",
    "\n",
    "    for name, num in order.items() :\n",
    "        if num == 0 :\n",
    "            pass\n",
    "        else :\n",
    "            print(f'{name} {num}개')\n",
    "    \n",
    "    for name, num in stock.items() :\n",
    "        print(f'남아있는 {name}은 {num}개 입니다.')\n",
    "\n",
    "    print(f\"주문을 그만 하시려면 '종료'를 입력해주세요.\")\n",
    "    x = input()\n",
    "    if x == '종료' :\n",
    "        print(f'주문을 종료합니다.')\n",
    "        break\n",
    "    else :\n",
    "        print(f'주문을 계속합니다.')\n",
    "    \n"
   ]
  },
  {
   "cell_type": "markdown",
   "metadata": {},
   "source": [
    "__[문제 5: 관리자 모드]__\n",
    "\n",
    "관리자 모드를 통해 붕어빵 재고를 추가할 수 있는 기능을 구현하세요.\n",
    "\n",
    "요구사항:\n",
    "- 관리자는 특정 붕어빵의 재고를 추가할 수 있습니다.\n",
    "- \"종료\"를 입력하면 관리자 모드를 종료합니다.\n",
    "- 추가된 재고를 업데이트하고 현재 재고를 화면에 출력합니다."
   ]
  },
  {
   "cell_type": "code",
   "execution_count": 30,
   "metadata": {},
   "outputs": [
    {
     "name": "stdout",
     "output_type": "stream",
     "text": [
      "남아있는 팥붕어빵은 10개 입니다.\n",
      "남아있는 슈크림붕어빵은 8개 입니다.\n",
      "남아있는 초코붕어빵은 5개 입니다.\n",
      "추가하실 팥붕어빵의 갯수를 입력해주세요.\n",
      "5\n",
      "추가하실 슈크림붕어빵의 갯수를 입력해주세요.\n",
      "5\n",
      "추가하실 초코붕어빵의 갯수를 입력해주세요.\n",
      "5\n",
      "남아있는 팥붕어빵은 15개 입니다.\n",
      "남아있는 슈크림붕어빵은 13개 입니다.\n",
      "남아있는 초코붕어빵은 10개 입니다.\n",
      "관리자 모드를 종료하시려면 '종료'를 입력해주세요\n",
      "재고 추가를 종료합니다.\n",
      "남아있는 팥붕어빵은 15개 입니다.\n",
      "남아있는 슈크림붕어빵은 13개 입니다.\n",
      "남아있는 초코붕어빵은 10개 입니다.\n"
     ]
    }
   ],
   "source": [
    "stock = {\"팥붕어빵\" : 10 , \"슈크림붕어빵\" : 8 , \"초코붕어빵\" : 5}\n",
    "add_bread = {\"팥붕어빵\" : 10 , \"슈크림붕어빵\" : 8 , \"초코붕어빵\" : 5}\n",
    "\n",
    "\n",
    "for name, num in stock.items() :\n",
    "    print(f'남아있는 {name}은 {num}개 입니다.')\n",
    "\n",
    "admin_mod = input()\n",
    "\n",
    "if admin_mod == '관리자모드' :\n",
    "\n",
    "    while True :\n",
    "\n",
    "        for name in add_bread.keys() :\n",
    "            print(f'추가하실 {name}의 갯수를 입력해주세요.')\n",
    "            add_bread[name] = int(input())\n",
    "            print(add_bread[name])\n",
    "            stock[name] = stock[name] + add_bread[name]\n",
    "    \n",
    "        for name, num in stock.items() :\n",
    "            print(f'남아있는 {name}은 {num}개 입니다.')\n",
    "\n",
    "        print(f\"관리자 모드를 종료하시려면 '종료'를 입력해주세요\")\n",
    "        y = input()\n",
    "        if y == '종료' :\n",
    "            print(f'재고 추가를 종료합니다.')\n",
    "            break\n",
    "        else :\n",
    "            print(f'재고 추가를 계속합니다.')\n",
    "\n",
    "for name, num in stock.items() :\n",
    "    print(f'남아있는 {name}은 {num}개 입니다.')\n",
    "\n",
    "\n",
    "\n"
   ]
  },
  {
   "cell_type": "markdown",
   "metadata": {},
   "source": [
    "__[문제 6: 매출 확인]__\n",
    "\n",
    "붕어빵 판매 가격을 설정하고, 판매한 붕어빵의 매출을 계산하세요.\n",
    "\n",
    "요구사항:\n",
    "- 각 붕어빵의 가격을 딕셔너리로 관리합니다.\n",
    "- 판매된 붕어빵의 종류와 개수를 딕셔너리로 관리합니다.\n",
    "- 총 매출을 계산하여 출력합니다.\n",
    "\n",
    "초기 설정:\n",
    "- 가격\n",
    "    - \"팥붕어빵\": 1000\n",
    "    - \"슈크림붕어빵\": 1200\n",
    "    - \"초코붕어빵\": 1500\n",
    "\n",
    "- 판매 개수\n",
    "    - \"팥붕어빵\": 0\n",
    "    - \"슈크림붕어빵\": 0\n",
    "    - \"초코붕어빵\": 0"
   ]
  },
  {
   "cell_type": "code",
   "execution_count": 34,
   "metadata": {},
   "outputs": [
    {
     "name": "stdout",
     "output_type": "stream",
     "text": [
      "주문하실 팥붕어빵의 갯수를 입력해주세요.\n",
      "1\n",
      "주문하실 슈크림붕어빵의 갯수를 입력해주세요.\n",
      "1\n",
      "주문하실 초코붕어빵의 갯수를 입력해주세요.\n",
      "1\n",
      "3700\n"
     ]
    }
   ],
   "source": [
    "price = {\"팥붕어빵\" : 1000 , \"슈크림붕어빵\" : 1200 , \"초코붕어빵\" : 1500}\n",
    "sell = {\"팥붕어빵\" : 0 , \"슈크림붕어빵\" : 0 , \"초코붕어빵\" : 0}\n",
    "order = {\"팥붕어빵\" : 0 , \"슈크림붕어빵\" : 0 , \"초코붕어빵\" : 0}\n",
    "total_sales = 0\n",
    "\n",
    "for name in order.keys() :\n",
    "    print(f'주문하실 {name}의 갯수를 입력해주세요.')\n",
    "    order[name] = int(input())\n",
    "    print(order[name])\n",
    "    sell[name] += order[name]\n",
    "\n",
    "for name in order.keys() :\n",
    "    total_sales += price[name] * sell[name]\n",
    "\n",
    "print(total_sales)\n"
   ]
  }
 ],
 "metadata": {
  "colab": {
   "authorship_tag": "ABX9TyMLQjyUmELFyKkx1AyovOFZ",
   "provenance": []
  },
  "kernelspec": {
   "display_name": "Python 3",
   "name": "python3"
  },
  "language_info": {
   "codemirror_mode": {
    "name": "ipython",
    "version": 3
   },
   "file_extension": ".py",
   "mimetype": "text/x-python",
   "name": "python",
   "nbconvert_exporter": "python",
   "pygments_lexer": "ipython3",
   "version": "3.9.6"
  }
 },
 "nbformat": 4,
 "nbformat_minor": 0
}
